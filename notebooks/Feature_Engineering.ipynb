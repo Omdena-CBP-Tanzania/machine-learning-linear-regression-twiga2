{
 "cells": [
  {
   "cell_type": "code",
   "execution_count": null,
   "id": "296518c7-d0ec-4447-93ac-5d8d37a2e823",
   "metadata": {},
   "outputs": [],
   "source": []
  }
 ],
 "metadata": {
  "kernelspec": {
   "display_name": "",
   "name": ""
  },
  "language_info": {
   "name": ""
  }
 },
 "nbformat": 4,
 "nbformat_minor": 5
}
