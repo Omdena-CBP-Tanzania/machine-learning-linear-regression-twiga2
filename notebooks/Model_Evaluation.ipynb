{
 "cells": [
  {
   "cell_type": "markdown",
   "id": "c4ec207a-f0f1-442f-b6eb-7bafdd61b12a",
   "metadata": {},
   "source": [
    "#### Task 4: Model Evaluation\n",
    "\n",
    "Steps:\n",
    "- Evaluate the model using metrics such as Mean Squared Error (MSE), R-squared.\n",
    "- Plot residuals to check the assumptions of linear regression.\n",
    "- Compare model performance with different feature sets or preprocessing steps.\n",
    "- Script: scripts/evaluate_model.py"
   ]
  },
  {
   "cell_type": "code",
   "execution_count": null,
   "id": "d68c0a5e-2e61-43fc-9cd4-8e32b74f20e4",
   "metadata": {},
   "outputs": [],
   "source": [
    "#import libraries \n",
    "\n",
    "import pandas as pd\n",
    "import numpy as np\n",
    "import matplotlib.pyplot as plt\n",
    "import seaborn as sns\n",
    "from joblib import load"
   ]
  },
  {
   "cell_type": "code",
   "execution_count": null,
   "id": "e63e8acb-6e8d-4aa2-aeb8-fe7eb4559b8e",
   "metadata": {},
   "outputs": [],
   "source": [
    "# load the model\n",
    "loaded_model"
   ]
  },
  {
   "cell_type": "code",
   "execution_count": null,
   "id": "3cc97544-6f2c-4dce-8fef-4379045d6ab4",
   "metadata": {},
   "outputs": [],
   "source": []
  }
 ],
 "metadata": {
  "kernelspec": {
   "display_name": "Python 3 (ipykernel)",
   "language": "python",
   "name": "python3"
  },
  "language_info": {
   "codemirror_mode": {
    "name": "ipython",
    "version": 3
   },
   "file_extension": ".py",
   "mimetype": "text/x-python",
   "name": "python",
   "nbconvert_exporter": "python",
   "pygments_lexer": "ipython3",
   "version": "3.13.0"
  }
 },
 "nbformat": 4,
 "nbformat_minor": 5
}
